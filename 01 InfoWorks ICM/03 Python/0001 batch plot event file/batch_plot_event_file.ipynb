{
 "cells": [
  {
   "cell_type": "code",
   "execution_count": 1,
   "metadata": {},
   "outputs": [],
   "source": [
    "import pandas as pd\n",
    "import matplotlib.pyplot as plt\n",
    "import os"
   ]
  },
  {
   "cell_type": "code",
   "execution_count": 2,
   "metadata": {},
   "outputs": [],
   "source": [
    "def read_csv(f):\n",
    "    df = pd.read_csv(f)\n",
    "    df.index = df['P_DATETIME']\n",
    "    del df['P_DATETIME']\n",
    "    return df\n",
    "\n",
    "def plot(df, fld, figsize=(8,4)):\n",
    "    fig, ax = plt.subplots(figsize=figsize)\n",
    "    df.loc[:, [fld]].plot(ax=ax)\n",
    "    return fig, ax\n",
    "\n",
    "def batch_plot(csv_path, fig_folder):\n",
    "    df = read_csv(csv_path)\n",
    "    for fld in df.columns:\n",
    "        fig, ax = plot(df, fld)\n",
    "        ax.set_title(fld)\n",
    "        fig.tight_layout()\n",
    "        fig.savefig(os.path.join(fig_folder, '{}.png'.format(fld)))"
   ]
  },
  {
   "cell_type": "code",
   "execution_count": null,
   "metadata": {},
   "outputs": [],
   "source": [
    "csv_path = './../data/event_generic.csv'\n",
    "fig_folder = './../data/fig'\n",
    "batch_plot(csv_path, fig_folder)\n"
   ]
  },
  {
   "cell_type": "code",
   "execution_count": null,
   "metadata": {},
   "outputs": [],
   "source": [
    "df = read_csv(csv_path)\n",
    "fig, ax = plot(df, df.columns[0])"
   ]
  },
  {
   "cell_type": "code",
   "execution_count": null,
   "metadata": {},
   "outputs": [],
   "source": []
  }
 ],
 "metadata": {
  "kernelspec": {
   "display_name": "ai",
   "language": "python",
   "name": "python3"
  },
  "language_info": {
   "codemirror_mode": {
    "name": "ipython",
    "version": 3
   },
   "file_extension": ".py",
   "mimetype": "text/x-python",
   "name": "python",
   "nbconvert_exporter": "python",
   "pygments_lexer": "ipython3",
   "version": "3.9.15"
  }
 },
 "nbformat": 4,
 "nbformat_minor": 2
}
